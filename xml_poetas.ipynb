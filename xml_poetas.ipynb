{
 "cells": [
  {
   "cell_type": "markdown",
   "metadata": {},
   "source": [
    "# Descargando datos en XML\n",
    "### Rodrigo Iván González Valenzuela"
   ]
  },
  {
   "cell_type": "code",
   "execution_count": 16,
   "metadata": {},
   "outputs": [],
   "source": [
    "import numpy as np\n",
    "import pandas as pd\n",
    "import os  # Para manejo de archivos y directorios\n",
    "import urllib.request  # Para la descarga de los archivos \n",
    "import xml.etree.ElementTree as et # Para analizar el árbol generado XML\n",
    "import re # Para el uso de expresiones regulares\n",
    "\n",
    "poetas_xml_url = \"https://github.com/mcd-unison/ing-caract/raw/main/ejemplos/\\\n",
    "    integracion/ejemplos/wikipedia-poetas.xml\"\n",
    "subdir= \"ing-carac/xml-poetas/\"\n",
    "poetas_xml_archivo = subdir+\"poetas.xml\"\n",
    "if not os.path.exists(poetas_xml_archivo):  # Comprueba si el archivo existe\n",
    "    urllib.request.urlretrieve(poetas_xml_url, poetas_xml_archivo)  # Descarga los datos de la URL"
   ]
  },
  {
   "cell_type": "markdown",
   "metadata": {},
   "source": [
    "Con la librería `xml.etree.ElementTree` se puede acceder a la estructura del archivo XML y obtener su elemento `root`. Posterior se buscan los elementos hijos que contengan los artículos de cada poeta para extraer la información que nos resulta útil: el nombre del poeta, el id del artículo y el texto biográfico."
   ]
  },
  {
   "cell_type": "code",
   "execution_count": 17,
   "metadata": {},
   "outputs": [
    {
     "name": "stdout",
     "output_type": "stream",
     "text": [
      "{http://www.mediawiki.org/xml/export-0.10/}mediawiki\n"
     ]
    }
   ],
   "source": [
    "tree = et.parse(poetas_xml_archivo)\n",
    "root = tree.getroot()\n",
    "print(root.tag)\n",
    "df_col = [\"id\",\"nombre\",\"texto\"]\n",
    "rows = []\n",
    "\n",
    "# Extraer los datos de XML\n",
    "for poeta in root.iter('{http://www.mediawiki.org/xml/export-0.10/}page'):\n",
    "    id = poeta.find('{http://www.mediawiki.org/xml/export-0.10/}id').text\n",
    "    nombre = poeta.find('{http://www.mediawiki.org/xml/export-0.10/}title').text\n",
    "    docum = poeta.find('{http://www.mediawiki.org/xml/export-0.10/}revision/{http://www.mediawiki.org/xml/export-0.10/}text').text\n",
    "    rows.append({\"id\": int(id), \"nombre\": nombre,\"texto\":docum})\n",
    "\n",
    "poetas_df_raw = pd.DataFrame(rows, columns = df_col)"
   ]
  },
  {
   "cell_type": "markdown",
   "metadata": {},
   "source": [
    "El principal problema para obtener más datos útiles sobre los poetas es que el artículo se encuentra como un solo elemento `<text>`, por lo que es necesario limpiar el formato en que se obtuvo (eliminando y reemplazando caracteres) por medio de la librería `re` y las siguientes expresiones regulares:"
   ]
  },
  {
   "cell_type": "code",
   "execution_count": 18,
   "metadata": {},
   "outputs": [],
   "source": [
    "# Prepara la columna \"texto\" con expresiones regulares \n",
    "poetas_text = [texto for texto in poetas_df_raw['texto'].values]\n",
    "\n",
    "remplaza_por_espacios_re = re.compile('[\\n/(){}\\[\\]\\|@,;\\.]')\n",
    "simbolos_a_eliminar_re = re.compile('[^\\d\\w #+_\\']')\n",
    "def prepara_texto(texto):\n",
    "    text = texto.lower()\n",
    "    \n",
    "    # Elimina simbolos\n",
    "    text = re.sub(remplaza_por_espacios_re, ' ', text)\n",
    "    text = re.sub(simbolos_a_eliminar_re, '', text)\n",
    "    text= re.sub('\\\\s{2,}', ' ', text)\n",
    "    \n",
    "    return text\n",
    "poetas_text_prep = [prepara_texto(texto) for texto in poetas_text]"
   ]
  },
  {
   "cell_type": "code",
   "execution_count": 19,
   "metadata": {},
   "outputs": [
    {
     "name": "stdout",
     "output_type": "stream",
     "text": [
      "         id                      nombre  \\\n",
      "0   4949229   Julia Morilla de Campbell   \n",
      "1   5105749                Luis Negreti   \n",
      "2   4477192                  Poldy Bird   \n",
      "3    423422              Ana María Shua   \n",
      "4   4284479                León Benarós   \n",
      "5   5436786  Alejandro González Gattone   \n",
      "6   3148146              Silvia Schujer   \n",
      "7   2428185              Laura Devetach   \n",
      "8   1108758              Graciela Repún   \n",
      "9   3222523        María Cristina Ramos   \n",
      "10   190419                 Olga Orozco   \n",
      "11   859323            Luisa Valenzuela   \n",
      "12  5687611           Manuela Fingueret   \n",
      "13  2605282            Javier Villafañe   \n",
      "14   538911          Santiago Kovadloff   \n",
      "15   505969            Luis Landriscina   \n",
      "16  2703105                    Tom Lupo   \n",
      "17  1905476        Alicia Dujovne Ortiz   \n",
      "18  5708383               Rosa Wernicke   \n",
      "19  6059383             Ataliva Herrera   \n",
      "\n",
      "                                                texto                fecha_nac  \n",
      "0   '''julia morilla de campbell''' rosario argent...      18 de julio de 1922  \n",
      "1    ficha de escritor imagen negreti luis hj2 001...       20 de mayo de 1890  \n",
      "2    ficha de persona padres enrique bird mosconib...  16 de diciembre de 1941  \n",
      "3    ficha de persona imagen nombre de nacimientoa...      22 de abril de 1951  \n",
      "4    ficha de persona nombre león benarós nombre d...     6 de febrero de 1915  \n",
      "5    ficha de escritor nombre alejandro gonzález g...  9 de septiembre de 1922  \n",
      "6    wikificar biografías t20170427 ficha de escri...  28 de diciembre de 1956  \n",
      "7    artículo bueno ficha de escritor imagen laura...     5 de octubre de 1936  \n",
      "8    ficha de escritor imagen textoimagen seudónim...                      NaN  \n",
      "9    ficha de escritor imagenmaría cristina ramos ...        5 de mayo de 1952  \n",
      "10   ficha de escritor nombre olga orozco imagen o...      17 de marzo de 1920  \n",
      "11   ficha de escritor nombre luisa valenzuela ima...  26 de noviembre de 1938  \n",
      "12   ficha de persona '''manuela fingueret''' buen...      9 de agosto de 1945  \n",
      "13   ficha de persona nombre javier villafañe imag...      24 de junio de 1909  \n",
      "14   ficha de persona '''santiago kovadloff''' bue...  14 de diciembre de 1942  \n",
      "15   ficha de persona nombre luis landriscina imag...  19 de diciembre de 1935  \n",
      "16   ficha de persona imagen tamaño imagen pie de ...    22 de octubre de 1945  \n",
      "17   ficha de escritor nombre alicia dujovne ortiz...       7 de marzo de 2016  \n",
      "18   ficha de persona nombre de nacimiento otros n...  3 de septiembre de 1971  \n",
      "19   ficha de escritor nombre ataliva herrera imag...       2 de junio de 1888  \n"
     ]
    }
   ],
   "source": [
    "#Busca las fechas de nacimiento de los poetas\n",
    "poetas_df = poetas_df_raw.copy(deep = True)\n",
    "poetas_df['texto'] = poetas_text_prep\n",
    "\n",
    "fec_nac_list = []\n",
    "for poeta in range(len(poetas_df.index)):\n",
    "    fec_nac= re.search(r'[0-9]{1,2} de [A-Za-z]{1,10} de [0-9]{1,4}',poetas_df.loc[poeta,'texto'])\n",
    "    if fec_nac != None :\n",
    "        fec_nac_list.append(fec_nac[0])\n",
    "    else:\n",
    "        fec_nac_list.append(\"NaN\")\n",
    "poetas_df['fecha_nac']=fec_nac_list\n",
    "print(poetas_df.head(20))"
   ]
  },
  {
   "cell_type": "markdown",
   "metadata": {},
   "source": [
    "Una vez que se tenga el dataframe con las características deseadas, lo podemos guardar en formato parquet."
   ]
  },
  {
   "cell_type": "code",
   "execution_count": 26,
   "metadata": {},
   "outputs": [],
   "source": [
    "poetas_df.to_parquet(path=subdir+\"poetas.parquet\",engine= 'pyarrow')"
   ]
  }
 ],
 "metadata": {
  "kernelspec": {
   "display_name": "Python 3.9.2 64-bit",
   "language": "python",
   "name": "python3"
  },
  "language_info": {
   "codemirror_mode": {
    "name": "ipython",
    "version": 3
   },
   "file_extension": ".py",
   "mimetype": "text/x-python",
   "name": "python",
   "nbconvert_exporter": "python",
   "pygments_lexer": "ipython3",
   "version": "3.9.2"
  },
  "orig_nbformat": 4,
  "vscode": {
   "interpreter": {
    "hash": "512097388dd31efd792da3c4a3c1e25cd549a423bd92cf1fb77821488595fd6b"
   }
  }
 },
 "nbformat": 4,
 "nbformat_minor": 2
}
